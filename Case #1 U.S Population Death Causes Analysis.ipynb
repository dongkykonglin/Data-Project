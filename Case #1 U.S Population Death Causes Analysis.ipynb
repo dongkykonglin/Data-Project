{
 "cells": [
  {
   "cell_type": "code",
   "execution_count": 1,
   "metadata": {},
   "outputs": [],
   "source": [
    "#import libraries\n",
    "import pandas as pd"
   ]
  },
  {
   "cell_type": "code",
   "execution_count": 2,
   "metadata": {},
   "outputs": [],
   "source": [
    "data= pd.read_csv('NCHS_-_Leading_Causes_of_Death__United_States.csv')"
   ]
  },
  {
   "cell_type": "code",
   "execution_count": 3,
   "metadata": {},
   "outputs": [
    {
     "data": {
      "text/html": [
       "<div>\n",
       "<style scoped>\n",
       "    .dataframe tbody tr th:only-of-type {\n",
       "        vertical-align: middle;\n",
       "    }\n",
       "\n",
       "    .dataframe tbody tr th {\n",
       "        vertical-align: top;\n",
       "    }\n",
       "\n",
       "    .dataframe thead th {\n",
       "        text-align: right;\n",
       "    }\n",
       "</style>\n",
       "<table border=\"1\" class=\"dataframe\">\n",
       "  <thead>\n",
       "    <tr style=\"text-align: right;\">\n",
       "      <th></th>\n",
       "      <th>Year</th>\n",
       "      <th>113 Cause Name</th>\n",
       "      <th>Cause Name</th>\n",
       "      <th>State</th>\n",
       "      <th>Deaths</th>\n",
       "      <th>Age-adjusted Death Rate</th>\n",
       "    </tr>\n",
       "  </thead>\n",
       "  <tbody>\n",
       "    <tr>\n",
       "      <td>0</td>\n",
       "      <td>2012</td>\n",
       "      <td>Nephritis, nephrotic syndrome and nephrosis (N...</td>\n",
       "      <td>Kidney disease</td>\n",
       "      <td>Vermont</td>\n",
       "      <td>21</td>\n",
       "      <td>2.6</td>\n",
       "    </tr>\n",
       "    <tr>\n",
       "      <td>1</td>\n",
       "      <td>2016</td>\n",
       "      <td>Nephritis, nephrotic syndrome and nephrosis (N...</td>\n",
       "      <td>Kidney disease</td>\n",
       "      <td>Vermont</td>\n",
       "      <td>30</td>\n",
       "      <td>3.7</td>\n",
       "    </tr>\n",
       "    <tr>\n",
       "      <td>2</td>\n",
       "      <td>2013</td>\n",
       "      <td>Nephritis, nephrotic syndrome and nephrosis (N...</td>\n",
       "      <td>Kidney disease</td>\n",
       "      <td>Vermont</td>\n",
       "      <td>30</td>\n",
       "      <td>3.8</td>\n",
       "    </tr>\n",
       "    <tr>\n",
       "      <td>3</td>\n",
       "      <td>2000</td>\n",
       "      <td>Intentional self-harm (suicide) (*U03,X60-X84,...</td>\n",
       "      <td>Suicide</td>\n",
       "      <td>District of Columbia</td>\n",
       "      <td>23</td>\n",
       "      <td>3.8</td>\n",
       "    </tr>\n",
       "    <tr>\n",
       "      <td>4</td>\n",
       "      <td>2014</td>\n",
       "      <td>Nephritis, nephrotic syndrome and nephrosis (N...</td>\n",
       "      <td>Kidney disease</td>\n",
       "      <td>Arizona</td>\n",
       "      <td>325</td>\n",
       "      <td>4.1</td>\n",
       "    </tr>\n",
       "    <tr>\n",
       "      <td>...</td>\n",
       "      <td>...</td>\n",
       "      <td>...</td>\n",
       "      <td>...</td>\n",
       "      <td>...</td>\n",
       "      <td>...</td>\n",
       "      <td>...</td>\n",
       "    </tr>\n",
       "    <tr>\n",
       "      <td>10291</td>\n",
       "      <td>2001</td>\n",
       "      <td>All Causes</td>\n",
       "      <td>All causes</td>\n",
       "      <td>District of Columbia</td>\n",
       "      <td>5951</td>\n",
       "      <td>1049.9</td>\n",
       "    </tr>\n",
       "    <tr>\n",
       "      <td>10292</td>\n",
       "      <td>2002</td>\n",
       "      <td>All Causes</td>\n",
       "      <td>All causes</td>\n",
       "      <td>Mississippi</td>\n",
       "      <td>28853</td>\n",
       "      <td>1051.6</td>\n",
       "    </tr>\n",
       "    <tr>\n",
       "      <td>10293</td>\n",
       "      <td>2000</td>\n",
       "      <td>All Causes</td>\n",
       "      <td>All causes</td>\n",
       "      <td>Mississippi</td>\n",
       "      <td>28654</td>\n",
       "      <td>1051.9</td>\n",
       "    </tr>\n",
       "    <tr>\n",
       "      <td>10294</td>\n",
       "      <td>2000</td>\n",
       "      <td>All Causes</td>\n",
       "      <td>All causes</td>\n",
       "      <td>District of Columbia</td>\n",
       "      <td>6001</td>\n",
       "      <td>1061.2</td>\n",
       "    </tr>\n",
       "    <tr>\n",
       "      <td>10295</td>\n",
       "      <td>1999</td>\n",
       "      <td>All Causes</td>\n",
       "      <td>All causes</td>\n",
       "      <td>District of Columbia</td>\n",
       "      <td>6076</td>\n",
       "      <td>1087.3</td>\n",
       "    </tr>\n",
       "  </tbody>\n",
       "</table>\n",
       "<p>10296 rows × 6 columns</p>\n",
       "</div>"
      ],
      "text/plain": [
       "       Year                                     113 Cause Name  \\\n",
       "0      2012  Nephritis, nephrotic syndrome and nephrosis (N...   \n",
       "1      2016  Nephritis, nephrotic syndrome and nephrosis (N...   \n",
       "2      2013  Nephritis, nephrotic syndrome and nephrosis (N...   \n",
       "3      2000  Intentional self-harm (suicide) (*U03,X60-X84,...   \n",
       "4      2014  Nephritis, nephrotic syndrome and nephrosis (N...   \n",
       "...     ...                                                ...   \n",
       "10291  2001                                         All Causes   \n",
       "10292  2002                                         All Causes   \n",
       "10293  2000                                         All Causes   \n",
       "10294  2000                                         All Causes   \n",
       "10295  1999                                         All Causes   \n",
       "\n",
       "           Cause Name                 State  Deaths  Age-adjusted Death Rate  \n",
       "0      Kidney disease               Vermont      21                      2.6  \n",
       "1      Kidney disease               Vermont      30                      3.7  \n",
       "2      Kidney disease               Vermont      30                      3.8  \n",
       "3             Suicide  District of Columbia      23                      3.8  \n",
       "4      Kidney disease               Arizona     325                      4.1  \n",
       "...               ...                   ...     ...                      ...  \n",
       "10291      All causes  District of Columbia    5951                   1049.9  \n",
       "10292      All causes           Mississippi   28853                   1051.6  \n",
       "10293      All causes           Mississippi   28654                   1051.9  \n",
       "10294      All causes  District of Columbia    6001                   1061.2  \n",
       "10295      All causes  District of Columbia    6076                   1087.3  \n",
       "\n",
       "[10296 rows x 6 columns]"
      ]
     },
     "execution_count": 3,
     "metadata": {},
     "output_type": "execute_result"
    }
   ],
   "source": [
    "data"
   ]
  },
  {
   "cell_type": "code",
   "execution_count": 4,
   "metadata": {},
   "outputs": [
    {
     "data": {
      "text/plain": [
       "(10296, 6)"
      ]
     },
     "execution_count": 4,
     "metadata": {},
     "output_type": "execute_result"
    }
   ],
   "source": [
    "data.shape"
   ]
  },
  {
   "cell_type": "code",
   "execution_count": 5,
   "metadata": {},
   "outputs": [
    {
     "ename": "AttributeError",
     "evalue": "'function' object has no attribute 'sum'",
     "output_type": "error",
     "traceback": [
      "\u001b[1;31m---------------------------------------------------------------------------\u001b[0m",
      "\u001b[1;31mAttributeError\u001b[0m                            Traceback (most recent call last)",
      "\u001b[1;32m<ipython-input-5-4b0a381c0a10>\u001b[0m in \u001b[0;36m<module>\u001b[1;34m\u001b[0m\n\u001b[1;32m----> 1\u001b[1;33m \u001b[0mdata\u001b[0m\u001b[1;33m.\u001b[0m\u001b[0misnull\u001b[0m\u001b[1;33m.\u001b[0m\u001b[0msum\u001b[0m\u001b[1;33m(\u001b[0m\u001b[1;33m)\u001b[0m\u001b[1;33m\u001b[0m\u001b[1;33m\u001b[0m\u001b[0m\n\u001b[0m",
      "\u001b[1;31mAttributeError\u001b[0m: 'function' object has no attribute 'sum'"
     ]
    }
   ],
   "source": [
    "data.isnull.sum()"
   ]
  },
  {
   "cell_type": "code",
   "execution_count": 7,
   "metadata": {},
   "outputs": [
    {
     "data": {
      "text/plain": [
       "Year                       0\n",
       "113 Cause Name             0\n",
       "Cause Name                 0\n",
       "State                      0\n",
       "Deaths                     0\n",
       "Age-adjusted Death Rate    0\n",
       "dtype: int64"
      ]
     },
     "execution_count": 7,
     "metadata": {},
     "output_type": "execute_result"
    }
   ],
   "source": [
    "data.isnull().sum()"
   ]
  },
  {
   "cell_type": "code",
   "execution_count": 8,
   "metadata": {},
   "outputs": [],
   "source": [
    "data = data.dropna()"
   ]
  },
  {
   "cell_type": "code",
   "execution_count": 10,
   "metadata": {},
   "outputs": [],
   "source": [
    "causes = data['Cause Name'].unique()"
   ]
  },
  {
   "cell_type": "code",
   "execution_count": 11,
   "metadata": {},
   "outputs": [
    {
     "data": {
      "text/plain": [
       "array(['Kidney disease', 'Suicide', \"Alzheimer's disease\",\n",
       "       'Influenza and pneumonia', 'Diabetes', 'CLRD',\n",
       "       'Unintentional injuries', 'Stroke', 'Heart disease', 'Cancer',\n",
       "       'All causes'], dtype=object)"
      ]
     },
     "execution_count": 11,
     "metadata": {},
     "output_type": "execute_result"
    }
   ],
   "source": [
    "causes"
   ]
  },
  {
   "cell_type": "code",
   "execution_count": 12,
   "metadata": {},
   "outputs": [
    {
     "data": {
      "text/html": [
       "<div>\n",
       "<style scoped>\n",
       "    .dataframe tbody tr th:only-of-type {\n",
       "        vertical-align: middle;\n",
       "    }\n",
       "\n",
       "    .dataframe tbody tr th {\n",
       "        vertical-align: top;\n",
       "    }\n",
       "\n",
       "    .dataframe thead th {\n",
       "        text-align: right;\n",
       "    }\n",
       "</style>\n",
       "<table border=\"1\" class=\"dataframe\">\n",
       "  <thead>\n",
       "    <tr style=\"text-align: right;\">\n",
       "      <th></th>\n",
       "      <th>Year</th>\n",
       "      <th>113 Cause Name</th>\n",
       "      <th>Cause Name</th>\n",
       "      <th>State</th>\n",
       "      <th>Deaths</th>\n",
       "      <th>Age-adjusted Death Rate</th>\n",
       "    </tr>\n",
       "  </thead>\n",
       "  <tbody>\n",
       "    <tr>\n",
       "      <td>0</td>\n",
       "      <td>2012</td>\n",
       "      <td>Nephritis, nephrotic syndrome and nephrosis (N...</td>\n",
       "      <td>Kidney disease</td>\n",
       "      <td>Vermont</td>\n",
       "      <td>21</td>\n",
       "      <td>2.6</td>\n",
       "    </tr>\n",
       "    <tr>\n",
       "      <td>1</td>\n",
       "      <td>2016</td>\n",
       "      <td>Nephritis, nephrotic syndrome and nephrosis (N...</td>\n",
       "      <td>Kidney disease</td>\n",
       "      <td>Vermont</td>\n",
       "      <td>30</td>\n",
       "      <td>3.7</td>\n",
       "    </tr>\n",
       "    <tr>\n",
       "      <td>2</td>\n",
       "      <td>2013</td>\n",
       "      <td>Nephritis, nephrotic syndrome and nephrosis (N...</td>\n",
       "      <td>Kidney disease</td>\n",
       "      <td>Vermont</td>\n",
       "      <td>30</td>\n",
       "      <td>3.8</td>\n",
       "    </tr>\n",
       "    <tr>\n",
       "      <td>3</td>\n",
       "      <td>2000</td>\n",
       "      <td>Intentional self-harm (suicide) (*U03,X60-X84,...</td>\n",
       "      <td>Suicide</td>\n",
       "      <td>District of Columbia</td>\n",
       "      <td>23</td>\n",
       "      <td>3.8</td>\n",
       "    </tr>\n",
       "    <tr>\n",
       "      <td>4</td>\n",
       "      <td>2014</td>\n",
       "      <td>Nephritis, nephrotic syndrome and nephrosis (N...</td>\n",
       "      <td>Kidney disease</td>\n",
       "      <td>Arizona</td>\n",
       "      <td>325</td>\n",
       "      <td>4.1</td>\n",
       "    </tr>\n",
       "  </tbody>\n",
       "</table>\n",
       "</div>"
      ],
      "text/plain": [
       "   Year                                     113 Cause Name      Cause Name  \\\n",
       "0  2012  Nephritis, nephrotic syndrome and nephrosis (N...  Kidney disease   \n",
       "1  2016  Nephritis, nephrotic syndrome and nephrosis (N...  Kidney disease   \n",
       "2  2013  Nephritis, nephrotic syndrome and nephrosis (N...  Kidney disease   \n",
       "3  2000  Intentional self-harm (suicide) (*U03,X60-X84,...         Suicide   \n",
       "4  2014  Nephritis, nephrotic syndrome and nephrosis (N...  Kidney disease   \n",
       "\n",
       "                  State  Deaths  Age-adjusted Death Rate  \n",
       "0               Vermont      21                      2.6  \n",
       "1               Vermont      30                      3.7  \n",
       "2               Vermont      30                      3.8  \n",
       "3  District of Columbia      23                      3.8  \n",
       "4               Arizona     325                      4.1  "
      ]
     },
     "execution_count": 12,
     "metadata": {},
     "output_type": "execute_result"
    }
   ],
   "source": [
    "data.head()"
   ]
  },
  {
   "cell_type": "code",
   "execution_count": 14,
   "metadata": {},
   "outputs": [],
   "source": [
    "data = data[data['Cause Name']!='All causes']"
   ]
  },
  {
   "cell_type": "code",
   "execution_count": 15,
   "metadata": {},
   "outputs": [
    {
     "data": {
      "text/plain": [
       "array(['Kidney disease', 'Suicide', \"Alzheimer's disease\",\n",
       "       'Influenza and pneumonia', 'Diabetes', 'CLRD',\n",
       "       'Unintentional injuries', 'Stroke', 'Heart disease', 'Cancer',\n",
       "       'All causes'], dtype=object)"
      ]
     },
     "execution_count": 15,
     "metadata": {},
     "output_type": "execute_result"
    }
   ],
   "source": [
    "causes"
   ]
  },
  {
   "cell_type": "code",
   "execution_count": 16,
   "metadata": {},
   "outputs": [],
   "source": [
    "causes= data['Cause Name'].unique()"
   ]
  },
  {
   "cell_type": "code",
   "execution_count": 23,
   "metadata": {},
   "outputs": [
    {
     "ename": "AttributeError",
     "evalue": "'numpy.ndarray' object has no attribute 'value_counts'",
     "output_type": "error",
     "traceback": [
      "\u001b[1;31m---------------------------------------------------------------------------\u001b[0m",
      "\u001b[1;31mAttributeError\u001b[0m                            Traceback (most recent call last)",
      "\u001b[1;32m<ipython-input-23-33b6b3ad28f0>\u001b[0m in \u001b[0;36m<module>\u001b[1;34m\u001b[0m\n\u001b[1;32m----> 1\u001b[1;33m \u001b[0mcauses\u001b[0m\u001b[1;33m.\u001b[0m\u001b[0mvalue_counts\u001b[0m\u001b[1;33m\u001b[0m\u001b[1;33m\u001b[0m\u001b[0m\n\u001b[0m",
      "\u001b[1;31mAttributeError\u001b[0m: 'numpy.ndarray' object has no attribute 'value_counts'"
     ]
    }
   ],
   "source": [
    "causes.value_counts"
   ]
  },
  {
   "cell_type": "code",
   "execution_count": 24,
   "metadata": {},
   "outputs": [
    {
     "data": {
      "text/plain": [
       "10"
      ]
     },
     "execution_count": 24,
     "metadata": {},
     "output_type": "execute_result"
    }
   ],
   "source": [
    "len(causes)"
   ]
  },
  {
   "cell_type": "code",
   "execution_count": 25,
   "metadata": {},
   "outputs": [],
   "source": [
    "state = data['State'].unique()"
   ]
  },
  {
   "cell_type": "code",
   "execution_count": 26,
   "metadata": {},
   "outputs": [
    {
     "data": {
      "text/plain": [
       "array(['Vermont', 'District of Columbia', 'Arizona', 'South Dakota',\n",
       "       'Washington', 'Iowa', 'New York', 'Massachusetts', 'New Jersey',\n",
       "       'California', 'North Dakota', 'Rhode Island', 'Alaska', 'Oregon',\n",
       "       'Wyoming', 'Idaho', 'Connecticut', 'Minnesota', 'Illinois',\n",
       "       'Montana', 'New Hampshire', 'Hawaii', 'Maryland', 'Florida',\n",
       "       'Colorado', 'Nevada', 'Utah', 'Delaware', 'New Mexico', 'Nebraska',\n",
       "       'Ohio', 'Michigan', 'Maine', 'Tennessee', 'Pennsylvania', 'Texas',\n",
       "       'Georgia', 'Louisiana', 'Indiana', 'United States', 'Mississippi',\n",
       "       'South Carolina', 'Virginia', 'Kansas', 'Wisconsin',\n",
       "       'North Carolina', 'Alabama', 'Kentucky', 'Missouri', 'Oklahoma',\n",
       "       'West Virginia', 'Arkansas'], dtype=object)"
      ]
     },
     "execution_count": 26,
     "metadata": {},
     "output_type": "execute_result"
    }
   ],
   "source": [
    "state"
   ]
  },
  {
   "cell_type": "code",
   "execution_count": 27,
   "metadata": {},
   "outputs": [],
   "source": [
    "data1 = data[data['State']!='United States']"
   ]
  },
  {
   "cell_type": "code",
   "execution_count": 28,
   "metadata": {},
   "outputs": [
    {
     "data": {
      "text/plain": [
       "52"
      ]
     },
     "execution_count": 28,
     "metadata": {},
     "output_type": "execute_result"
    }
   ],
   "source": [
    "len(state)"
   ]
  },
  {
   "cell_type": "code",
   "execution_count": 29,
   "metadata": {},
   "outputs": [
    {
     "data": {
      "text/plain": [
       "9180"
      ]
     },
     "execution_count": 29,
     "metadata": {},
     "output_type": "execute_result"
    }
   ],
   "source": [
    "len(data1)"
   ]
  },
  {
   "cell_type": "code",
   "execution_count": 32,
   "metadata": {},
   "outputs": [],
   "source": [
    "state = data1['State'].unique()"
   ]
  },
  {
   "cell_type": "code",
   "execution_count": 33,
   "metadata": {},
   "outputs": [
    {
     "data": {
      "text/plain": [
       "51"
      ]
     },
     "execution_count": 33,
     "metadata": {},
     "output_type": "execute_result"
    }
   ],
   "source": [
    "len(state)"
   ]
  },
  {
   "cell_type": "code",
   "execution_count": 34,
   "metadata": {},
   "outputs": [
    {
     "data": {
      "text/plain": [
       "68398104"
      ]
     },
     "execution_count": 34,
     "metadata": {},
     "output_type": "execute_result"
    }
   ],
   "source": [
    "data['Deaths'].sum()"
   ]
  },
  {
   "cell_type": "code",
   "execution_count": 35,
   "metadata": {},
   "outputs": [],
   "source": [
    "dyear= data.groupby(['Year']).sum()"
   ]
  },
  {
   "cell_type": "code",
   "execution_count": 41,
   "metadata": {},
   "outputs": [
    {
     "data": {
      "text/html": [
       "<div>\n",
       "<style scoped>\n",
       "    .dataframe tbody tr th:only-of-type {\n",
       "        vertical-align: middle;\n",
       "    }\n",
       "\n",
       "    .dataframe tbody tr th {\n",
       "        vertical-align: top;\n",
       "    }\n",
       "\n",
       "    .dataframe thead th {\n",
       "        text-align: right;\n",
       "    }\n",
       "</style>\n",
       "<table border=\"1\" class=\"dataframe\">\n",
       "  <thead>\n",
       "    <tr style=\"text-align: right;\">\n",
       "      <th></th>\n",
       "      <th>Year</th>\n",
       "      <th>113 Cause Name</th>\n",
       "      <th>Cause Name</th>\n",
       "      <th>State</th>\n",
       "      <th>Deaths</th>\n",
       "      <th>Age-adjusted Death Rate</th>\n",
       "    </tr>\n",
       "  </thead>\n",
       "  <tbody>\n",
       "    <tr>\n",
       "      <td>0</td>\n",
       "      <td>2012</td>\n",
       "      <td>Nephritis, nephrotic syndrome and nephrosis (N...</td>\n",
       "      <td>Kidney disease</td>\n",
       "      <td>Vermont</td>\n",
       "      <td>21</td>\n",
       "      <td>2.6</td>\n",
       "    </tr>\n",
       "    <tr>\n",
       "      <td>1</td>\n",
       "      <td>2016</td>\n",
       "      <td>Nephritis, nephrotic syndrome and nephrosis (N...</td>\n",
       "      <td>Kidney disease</td>\n",
       "      <td>Vermont</td>\n",
       "      <td>30</td>\n",
       "      <td>3.7</td>\n",
       "    </tr>\n",
       "    <tr>\n",
       "      <td>2</td>\n",
       "      <td>2013</td>\n",
       "      <td>Nephritis, nephrotic syndrome and nephrosis (N...</td>\n",
       "      <td>Kidney disease</td>\n",
       "      <td>Vermont</td>\n",
       "      <td>30</td>\n",
       "      <td>3.8</td>\n",
       "    </tr>\n",
       "    <tr>\n",
       "      <td>3</td>\n",
       "      <td>2000</td>\n",
       "      <td>Intentional self-harm (suicide) (*U03,X60-X84,...</td>\n",
       "      <td>Suicide</td>\n",
       "      <td>District of Columbia</td>\n",
       "      <td>23</td>\n",
       "      <td>3.8</td>\n",
       "    </tr>\n",
       "    <tr>\n",
       "      <td>4</td>\n",
       "      <td>2014</td>\n",
       "      <td>Nephritis, nephrotic syndrome and nephrosis (N...</td>\n",
       "      <td>Kidney disease</td>\n",
       "      <td>Arizona</td>\n",
       "      <td>325</td>\n",
       "      <td>4.1</td>\n",
       "    </tr>\n",
       "  </tbody>\n",
       "</table>\n",
       "</div>"
      ],
      "text/plain": [
       "   Year                                     113 Cause Name      Cause Name  \\\n",
       "0  2012  Nephritis, nephrotic syndrome and nephrosis (N...  Kidney disease   \n",
       "1  2016  Nephritis, nephrotic syndrome and nephrosis (N...  Kidney disease   \n",
       "2  2013  Nephritis, nephrotic syndrome and nephrosis (N...  Kidney disease   \n",
       "3  2000  Intentional self-harm (suicide) (*U03,X60-X84,...         Suicide   \n",
       "4  2014  Nephritis, nephrotic syndrome and nephrosis (N...  Kidney disease   \n",
       "\n",
       "                  State  Deaths  Age-adjusted Death Rate  \n",
       "0               Vermont      21                      2.6  \n",
       "1               Vermont      30                      3.7  \n",
       "2               Vermont      30                      3.8  \n",
       "3  District of Columbia      23                      3.8  \n",
       "4               Arizona     325                      4.1  "
      ]
     },
     "execution_count": 41,
     "metadata": {},
     "output_type": "execute_result"
    }
   ],
   "source": [
    "data.head()"
   ]
  },
  {
   "cell_type": "code",
   "execution_count": 42,
   "metadata": {},
   "outputs": [
    {
     "data": {
      "text/html": [
       "<div>\n",
       "<style scoped>\n",
       "    .dataframe tbody tr th:only-of-type {\n",
       "        vertical-align: middle;\n",
       "    }\n",
       "\n",
       "    .dataframe tbody tr th {\n",
       "        vertical-align: top;\n",
       "    }\n",
       "\n",
       "    .dataframe thead th {\n",
       "        text-align: right;\n",
       "    }\n",
       "</style>\n",
       "<table border=\"1\" class=\"dataframe\">\n",
       "  <thead>\n",
       "    <tr style=\"text-align: right;\">\n",
       "      <th></th>\n",
       "      <th>Deaths</th>\n",
       "      <th>Age-adjusted Death Rate</th>\n",
       "    </tr>\n",
       "    <tr>\n",
       "      <th>Year</th>\n",
       "      <th></th>\n",
       "      <th></th>\n",
       "    </tr>\n",
       "  </thead>\n",
       "  <tbody>\n",
       "    <tr>\n",
       "      <td>1999</td>\n",
       "      <td>3811652</td>\n",
       "      <td>36290.4</td>\n",
       "    </tr>\n",
       "    <tr>\n",
       "      <td>2000</td>\n",
       "      <td>3804388</td>\n",
       "      <td>35849.3</td>\n",
       "    </tr>\n",
       "    <tr>\n",
       "      <td>2001</td>\n",
       "      <td>3798716</td>\n",
       "      <td>35256.0</td>\n",
       "    </tr>\n",
       "    <tr>\n",
       "      <td>2002</td>\n",
       "      <td>3837746</td>\n",
       "      <td>35101.3</td>\n",
       "    </tr>\n",
       "    <tr>\n",
       "      <td>2003</td>\n",
       "      <td>3824230</td>\n",
       "      <td>34504.9</td>\n",
       "    </tr>\n",
       "    <tr>\n",
       "      <td>2004</td>\n",
       "      <td>3728266</td>\n",
       "      <td>33029.7</td>\n",
       "    </tr>\n",
       "    <tr>\n",
       "      <td>2005</td>\n",
       "      <td>3779962</td>\n",
       "      <td>32947.6</td>\n",
       "    </tr>\n",
       "    <tr>\n",
       "      <td>2006</td>\n",
       "      <td>3709352</td>\n",
       "      <td>31757.6</td>\n",
       "    </tr>\n",
       "    <tr>\n",
       "      <td>2007</td>\n",
       "      <td>3692602</td>\n",
       "      <td>31046.7</td>\n",
       "    </tr>\n",
       "    <tr>\n",
       "      <td>2008</td>\n",
       "      <td>3745962</td>\n",
       "      <td>30929.0</td>\n",
       "    </tr>\n",
       "    <tr>\n",
       "      <td>2009</td>\n",
       "      <td>3677002</td>\n",
       "      <td>29776.2</td>\n",
       "    </tr>\n",
       "    <tr>\n",
       "      <td>2010</td>\n",
       "      <td>3704698</td>\n",
       "      <td>29612.3</td>\n",
       "    </tr>\n",
       "    <tr>\n",
       "      <td>2011</td>\n",
       "      <td>3738642</td>\n",
       "      <td>29162.3</td>\n",
       "    </tr>\n",
       "    <tr>\n",
       "      <td>2012</td>\n",
       "      <td>3753176</td>\n",
       "      <td>28607.6</td>\n",
       "    </tr>\n",
       "    <tr>\n",
       "      <td>2013</td>\n",
       "      <td>3820622</td>\n",
       "      <td>28510.5</td>\n",
       "    </tr>\n",
       "    <tr>\n",
       "      <td>2014</td>\n",
       "      <td>3876816</td>\n",
       "      <td>28448.0</td>\n",
       "    </tr>\n",
       "    <tr>\n",
       "      <td>2015</td>\n",
       "      <td>4026034</td>\n",
       "      <td>28944.1</td>\n",
       "    </tr>\n",
       "    <tr>\n",
       "      <td>2016</td>\n",
       "      <td>4068238</td>\n",
       "      <td>28721.5</td>\n",
       "    </tr>\n",
       "  </tbody>\n",
       "</table>\n",
       "</div>"
      ],
      "text/plain": [
       "       Deaths  Age-adjusted Death Rate\n",
       "Year                                  \n",
       "1999  3811652                  36290.4\n",
       "2000  3804388                  35849.3\n",
       "2001  3798716                  35256.0\n",
       "2002  3837746                  35101.3\n",
       "2003  3824230                  34504.9\n",
       "2004  3728266                  33029.7\n",
       "2005  3779962                  32947.6\n",
       "2006  3709352                  31757.6\n",
       "2007  3692602                  31046.7\n",
       "2008  3745962                  30929.0\n",
       "2009  3677002                  29776.2\n",
       "2010  3704698                  29612.3\n",
       "2011  3738642                  29162.3\n",
       "2012  3753176                  28607.6\n",
       "2013  3820622                  28510.5\n",
       "2014  3876816                  28448.0\n",
       "2015  4026034                  28944.1\n",
       "2016  4068238                  28721.5"
      ]
     },
     "execution_count": 42,
     "metadata": {},
     "output_type": "execute_result"
    }
   ],
   "source": [
    "dyear"
   ]
  },
  {
   "cell_type": "code",
   "execution_count": 54,
   "metadata": {},
   "outputs": [],
   "source": [
    "import matplotlib.pyplot as plt\n",
    "%matplotlib inline"
   ]
  },
  {
   "cell_type": "code",
   "execution_count": 57,
   "metadata": {},
   "outputs": [
    {
     "data": {
      "text/plain": [
       "<matplotlib.legend.Legend at 0x1b9de9984e0>"
      ]
     },
     "execution_count": 57,
     "metadata": {},
     "output_type": "execute_result"
    },
    {
     "data": {
      "image/png": "[encoded data removed]",
      "text/plain": [
       "<Figure size 720x576 with 1 Axes>"
      ]
     },
     "metadata": {
      "needs_background": "light"
     },
     "output_type": "display_data"
    }
   ],
   "source": [
    "plt.figure(figsize=(10,8))\n",
    "dyear['Deaths'].plot(color='red',title='Death Per year \\n 1999-2015')\n",
    "plt.legend()"
   ]
  },
  {
   "cell_type": "code",
   "execution_count": 62,
   "metadata": {},
   "outputs": [],
   "source": [
    "dataset2 = data1.groupby('State').sum()"
   ]
  },
  {
   "cell_type": "code",
   "execution_count": 65,
   "metadata": {},
   "outputs": [],
   "source": [
    "dataset2.sort_values('Deaths',ascending=False,inplace=True)"
   ]
  },
  {
   "cell_type": "code",
   "execution_count": 67,
   "metadata": {},
   "outputs": [],
   "source": [
    "dataset3 = dataset2.head()"
   ]
  },
  {
   "cell_type": "code",
   "execution_count": 75,
   "metadata": {},
   "outputs": [
    {
     "data": {
      "text/plain": [
       "<matplotlib.legend.Legend at 0x1b9e0843a58>"
      ]
     },
     "execution_count": 75,
     "metadata": {},
     "output_type": "execute_result"
    },
    {
     "data": {
      "image/png": "[encoded data removed]",
      "text/plain": [
       "<Figure size 720x576 with 1 Axes>"
      ]
     },
     "metadata": {
      "needs_background": "light"
     },
     "output_type": "display_data"
    }
   ],
   "source": [
    "plt.figure(figsize=(10,8))\n",
    "dataset2['Deaths'].head(10).plot(kind='bar',title='Top ten states with highest with number \\n 1999-2015')\n",
    "plt.legend()"
   ]
  },
  {
   "cell_type": "code",
   "execution_count": 81,
   "metadata": {},
   "outputs": [],
   "source": [
    "dataset1 = data[data['Cause Name']!='All Causes']"
   ]
  },
  {
   "cell_type": "code",
   "execution_count": 83,
   "metadata": {},
   "outputs": [],
   "source": [
    "dataset2 = dataset1.groupby('Cause Name').sum()"
   ]
  },
  {
   "cell_type": "code",
   "execution_count": 85,
   "metadata": {},
   "outputs": [
    {
     "data": {
      "text/html": [
       "<div>\n",
       "<style scoped>\n",
       "    .dataframe tbody tr th:only-of-type {\n",
       "        vertical-align: middle;\n",
       "    }\n",
       "\n",
       "    .dataframe tbody tr th {\n",
       "        vertical-align: top;\n",
       "    }\n",
       "\n",
       "    .dataframe thead th {\n",
       "        text-align: right;\n",
       "    }\n",
       "</style>\n",
       "<table border=\"1\" class=\"dataframe\">\n",
       "  <thead>\n",
       "    <tr style=\"text-align: right;\">\n",
       "      <th></th>\n",
       "      <th>Year</th>\n",
       "      <th>Deaths</th>\n",
       "      <th>Age-adjusted Death Rate</th>\n",
       "    </tr>\n",
       "    <tr>\n",
       "      <th>Cause Name</th>\n",
       "      <th></th>\n",
       "      <th></th>\n",
       "      <th></th>\n",
       "    </tr>\n",
       "  </thead>\n",
       "  <tbody>\n",
       "    <tr>\n",
       "      <td>Alzheimer's disease</td>\n",
       "      <td>1879020</td>\n",
       "      <td>2746824</td>\n",
       "      <td>23043.1</td>\n",
       "    </tr>\n",
       "    <tr>\n",
       "      <td>CLRD</td>\n",
       "      <td>1879020</td>\n",
       "      <td>4869452</td>\n",
       "      <td>41787.4</td>\n",
       "    </tr>\n",
       "    <tr>\n",
       "      <td>Cancer</td>\n",
       "      <td>1879020</td>\n",
       "      <td>20489072</td>\n",
       "      <td>168385.3</td>\n",
       "    </tr>\n",
       "    <tr>\n",
       "      <td>Diabetes</td>\n",
       "      <td>1879020</td>\n",
       "      <td>2632758</td>\n",
       "      <td>21969.7</td>\n",
       "    </tr>\n",
       "    <tr>\n",
       "      <td>Heart disease</td>\n",
       "      <td>1879020</td>\n",
       "      <td>23150366</td>\n",
       "      <td>186996.3</td>\n",
       "    </tr>\n",
       "  </tbody>\n",
       "</table>\n",
       "</div>"
      ],
      "text/plain": [
       "                        Year    Deaths  Age-adjusted Death Rate\n",
       "Cause Name                                                     \n",
       "Alzheimer's disease  1879020   2746824                  23043.1\n",
       "CLRD                 1879020   4869452                  41787.4\n",
       "Cancer               1879020  20489072                 168385.3\n",
       "Diabetes             1879020   2632758                  21969.7\n",
       "Heart disease        1879020  23150366                 186996.3"
      ]
     },
     "execution_count": 85,
     "metadata": {},
     "output_type": "execute_result"
    }
   ],
   "source": [
    "dataset2.head()"
   ]
  },
  {
   "cell_type": "code",
   "execution_count": 86,
   "metadata": {},
   "outputs": [],
   "source": [
    "dataset2.sort_values('Deaths',ascending=False,inplace=True)"
   ]
  },
  {
   "cell_type": "code",
   "execution_count": 89,
   "metadata": {},
   "outputs": [
    {
     "data": {
      "text/html": [
       "<div>\n",
       "<style scoped>\n",
       "    .dataframe tbody tr th:only-of-type {\n",
       "        vertical-align: middle;\n",
       "    }\n",
       "\n",
       "    .dataframe tbody tr th {\n",
       "        vertical-align: top;\n",
       "    }\n",
       "\n",
       "    .dataframe thead th {\n",
       "        text-align: right;\n",
       "    }\n",
       "</style>\n",
       "<table border=\"1\" class=\"dataframe\">\n",
       "  <thead>\n",
       "    <tr style=\"text-align: right;\">\n",
       "      <th></th>\n",
       "      <th>Year</th>\n",
       "      <th>Deaths</th>\n",
       "      <th>Age-adjusted Death Rate</th>\n",
       "    </tr>\n",
       "    <tr>\n",
       "      <th>Cause Name</th>\n",
       "      <th></th>\n",
       "      <th></th>\n",
       "      <th></th>\n",
       "    </tr>\n",
       "  </thead>\n",
       "  <tbody>\n",
       "    <tr>\n",
       "      <td>Heart disease</td>\n",
       "      <td>1879020</td>\n",
       "      <td>23150366</td>\n",
       "      <td>186996.3</td>\n",
       "    </tr>\n",
       "    <tr>\n",
       "      <td>Cancer</td>\n",
       "      <td>1879020</td>\n",
       "      <td>20489072</td>\n",
       "      <td>168385.3</td>\n",
       "    </tr>\n",
       "    <tr>\n",
       "      <td>Stroke</td>\n",
       "      <td>1879020</td>\n",
       "      <td>5160280</td>\n",
       "      <td>43391.4</td>\n",
       "    </tr>\n",
       "    <tr>\n",
       "      <td>CLRD</td>\n",
       "      <td>1879020</td>\n",
       "      <td>4869452</td>\n",
       "      <td>41787.4</td>\n",
       "    </tr>\n",
       "    <tr>\n",
       "      <td>Unintentional injuries</td>\n",
       "      <td>1879020</td>\n",
       "      <td>4355768</td>\n",
       "      <td>40086.7</td>\n",
       "    </tr>\n",
       "    <tr>\n",
       "      <td>Alzheimer's disease</td>\n",
       "      <td>1879020</td>\n",
       "      <td>2746824</td>\n",
       "      <td>23043.1</td>\n",
       "    </tr>\n",
       "    <tr>\n",
       "      <td>Diabetes</td>\n",
       "      <td>1879020</td>\n",
       "      <td>2632758</td>\n",
       "      <td>21969.7</td>\n",
       "    </tr>\n",
       "    <tr>\n",
       "      <td>Influenza and pneumonia</td>\n",
       "      <td>1879020</td>\n",
       "      <td>2077938</td>\n",
       "      <td>17212.2</td>\n",
       "    </tr>\n",
       "    <tr>\n",
       "      <td>Kidney disease</td>\n",
       "      <td>1879020</td>\n",
       "      <td>1615960</td>\n",
       "      <td>13234.5</td>\n",
       "    </tr>\n",
       "    <tr>\n",
       "      <td>Suicide</td>\n",
       "      <td>1879020</td>\n",
       "      <td>1299686</td>\n",
       "      <td>12388.4</td>\n",
       "    </tr>\n",
       "  </tbody>\n",
       "</table>\n",
       "</div>"
      ],
      "text/plain": [
       "                            Year    Deaths  Age-adjusted Death Rate\n",
       "Cause Name                                                         \n",
       "Heart disease            1879020  23150366                 186996.3\n",
       "Cancer                   1879020  20489072                 168385.3\n",
       "Stroke                   1879020   5160280                  43391.4\n",
       "CLRD                     1879020   4869452                  41787.4\n",
       "Unintentional injuries   1879020   4355768                  40086.7\n",
       "Alzheimer's disease      1879020   2746824                  23043.1\n",
       "Diabetes                 1879020   2632758                  21969.7\n",
       "Influenza and pneumonia  1879020   2077938                  17212.2\n",
       "Kidney disease           1879020   1615960                  13234.5\n",
       "Suicide                  1879020   1299686                  12388.4"
      ]
     },
     "execution_count": 89,
     "metadata": {},
     "output_type": "execute_result"
    }
   ],
   "source": [
    "dataset2.head(10)"
   ]
  },
  {
   "cell_type": "code",
   "execution_count": 94,
   "metadata": {},
   "outputs": [
    {
     "data": {
      "text/plain": [
       "<matplotlib.axes._subplots.AxesSubplot at 0x1b9e23e77f0>"
      ]
     },
     "execution_count": 94,
     "metadata": {},
     "output_type": "execute_result"
    },
    {
     "data": {
      "image/png": "[encoded data removed]",
      "text/plain": [
       "<Figure size 720x576 with 1 Axes>"
      ]
     },
     "metadata": {
      "needs_background": "light"
     },
     "output_type": "display_data"
    }
   ],
   "source": [
    "plt.figure(figsize=(10,8))\n",
    "dataset2['Deaths'].head(10).plot.bar(title='Top ten causes of death in USA \\n 1999-2015',cmap='viridis')"
   ]
  },
  {
   "cell_type": "code",
   "execution_count": 95,
   "metadata": {},
   "outputs": [],
   "source": [
    "import seaborn as sns\n",
    "sns.set(style='white', color_codes=True)"
   ]
  },
  {
   "cell_type": "code",
   "execution_count": 100,
   "metadata": {},
   "outputs": [],
   "source": [
    "dataset = pd.read_csv('full_data.csv',index_col =0 )"
   ]
  },
  {
   "cell_type": "code",
   "execution_count": 101,
   "metadata": {},
   "outputs": [
    {
     "data": {
      "text/html": [
       "<div>\n",
       "<style scoped>\n",
       "    .dataframe tbody tr th:only-of-type {\n",
       "        vertical-align: middle;\n",
       "    }\n",
       "\n",
       "    .dataframe tbody tr th {\n",
       "        vertical-align: top;\n",
       "    }\n",
       "\n",
       "    .dataframe thead th {\n",
       "        text-align: right;\n",
       "    }\n",
       "</style>\n",
       "<table border=\"1\" class=\"dataframe\">\n",
       "  <thead>\n",
       "    <tr style=\"text-align: right;\">\n",
       "      <th></th>\n",
       "      <th>year</th>\n",
       "      <th>month</th>\n",
       "      <th>intent</th>\n",
       "      <th>police</th>\n",
       "      <th>sex</th>\n",
       "      <th>age</th>\n",
       "      <th>race</th>\n",
       "      <th>hispanic</th>\n",
       "      <th>place</th>\n",
       "      <th>education</th>\n",
       "    </tr>\n",
       "  </thead>\n",
       "  <tbody>\n",
       "    <tr>\n",
       "      <td>1</td>\n",
       "      <td>2012</td>\n",
       "      <td>1</td>\n",
       "      <td>Suicide</td>\n",
       "      <td>0</td>\n",
       "      <td>M</td>\n",
       "      <td>34.0</td>\n",
       "      <td>Asian/Pacific Islander</td>\n",
       "      <td>100</td>\n",
       "      <td>Home</td>\n",
       "      <td>BA+</td>\n",
       "    </tr>\n",
       "    <tr>\n",
       "      <td>2</td>\n",
       "      <td>2012</td>\n",
       "      <td>1</td>\n",
       "      <td>Suicide</td>\n",
       "      <td>0</td>\n",
       "      <td>F</td>\n",
       "      <td>21.0</td>\n",
       "      <td>White</td>\n",
       "      <td>100</td>\n",
       "      <td>Street</td>\n",
       "      <td>Some college</td>\n",
       "    </tr>\n",
       "    <tr>\n",
       "      <td>3</td>\n",
       "      <td>2012</td>\n",
       "      <td>1</td>\n",
       "      <td>Suicide</td>\n",
       "      <td>0</td>\n",
       "      <td>M</td>\n",
       "      <td>60.0</td>\n",
       "      <td>White</td>\n",
       "      <td>100</td>\n",
       "      <td>Other specified</td>\n",
       "      <td>BA+</td>\n",
       "    </tr>\n",
       "    <tr>\n",
       "      <td>4</td>\n",
       "      <td>2012</td>\n",
       "      <td>2</td>\n",
       "      <td>Suicide</td>\n",
       "      <td>0</td>\n",
       "      <td>M</td>\n",
       "      <td>64.0</td>\n",
       "      <td>White</td>\n",
       "      <td>100</td>\n",
       "      <td>Home</td>\n",
       "      <td>BA+</td>\n",
       "    </tr>\n",
       "    <tr>\n",
       "      <td>5</td>\n",
       "      <td>2012</td>\n",
       "      <td>2</td>\n",
       "      <td>Suicide</td>\n",
       "      <td>0</td>\n",
       "      <td>M</td>\n",
       "      <td>31.0</td>\n",
       "      <td>White</td>\n",
       "      <td>100</td>\n",
       "      <td>Other specified</td>\n",
       "      <td>HS/GED</td>\n",
       "    </tr>\n",
       "    <tr>\n",
       "      <td>...</td>\n",
       "      <td>...</td>\n",
       "      <td>...</td>\n",
       "      <td>...</td>\n",
       "      <td>...</td>\n",
       "      <td>...</td>\n",
       "      <td>...</td>\n",
       "      <td>...</td>\n",
       "      <td>...</td>\n",
       "      <td>...</td>\n",
       "      <td>...</td>\n",
       "    </tr>\n",
       "    <tr>\n",
       "      <td>100794</td>\n",
       "      <td>2014</td>\n",
       "      <td>12</td>\n",
       "      <td>Homicide</td>\n",
       "      <td>0</td>\n",
       "      <td>M</td>\n",
       "      <td>36.0</td>\n",
       "      <td>Black</td>\n",
       "      <td>100</td>\n",
       "      <td>Home</td>\n",
       "      <td>HS/GED</td>\n",
       "    </tr>\n",
       "    <tr>\n",
       "      <td>100795</td>\n",
       "      <td>2014</td>\n",
       "      <td>12</td>\n",
       "      <td>Homicide</td>\n",
       "      <td>0</td>\n",
       "      <td>M</td>\n",
       "      <td>19.0</td>\n",
       "      <td>Black</td>\n",
       "      <td>100</td>\n",
       "      <td>Street</td>\n",
       "      <td>HS/GED</td>\n",
       "    </tr>\n",
       "    <tr>\n",
       "      <td>100796</td>\n",
       "      <td>2014</td>\n",
       "      <td>12</td>\n",
       "      <td>Homicide</td>\n",
       "      <td>0</td>\n",
       "      <td>M</td>\n",
       "      <td>20.0</td>\n",
       "      <td>Black</td>\n",
       "      <td>100</td>\n",
       "      <td>Street</td>\n",
       "      <td>HS/GED</td>\n",
       "    </tr>\n",
       "    <tr>\n",
       "      <td>100797</td>\n",
       "      <td>2014</td>\n",
       "      <td>12</td>\n",
       "      <td>Homicide</td>\n",
       "      <td>0</td>\n",
       "      <td>M</td>\n",
       "      <td>22.0</td>\n",
       "      <td>Hispanic</td>\n",
       "      <td>260</td>\n",
       "      <td>Street</td>\n",
       "      <td>Less than HS</td>\n",
       "    </tr>\n",
       "    <tr>\n",
       "      <td>100798</td>\n",
       "      <td>2014</td>\n",
       "      <td>10</td>\n",
       "      <td>Homicide</td>\n",
       "      <td>0</td>\n",
       "      <td>M</td>\n",
       "      <td>43.0</td>\n",
       "      <td>Black</td>\n",
       "      <td>100</td>\n",
       "      <td>Other unspecified</td>\n",
       "      <td>HS/GED</td>\n",
       "    </tr>\n",
       "  </tbody>\n",
       "</table>\n",
       "<p>100798 rows × 10 columns</p>\n",
       "</div>"
      ],
      "text/plain": [
       "        year  month    intent  police sex   age                    race  \\\n",
       "1       2012      1   Suicide       0   M  34.0  Asian/Pacific Islander   \n",
       "2       2012      1   Suicide       0   F  21.0                   White   \n",
       "3       2012      1   Suicide       0   M  60.0                   White   \n",
       "4       2012      2   Suicide       0   M  64.0                   White   \n",
       "5       2012      2   Suicide       0   M  31.0                   White   \n",
       "...      ...    ...       ...     ...  ..   ...                     ...   \n",
       "100794  2014     12  Homicide       0   M  36.0                   Black   \n",
       "100795  2014     12  Homicide       0   M  19.0                   Black   \n",
       "100796  2014     12  Homicide       0   M  20.0                   Black   \n",
       "100797  2014     12  Homicide       0   M  22.0                Hispanic   \n",
       "100798  2014     10  Homicide       0   M  43.0                   Black   \n",
       "\n",
       "        hispanic              place     education  \n",
       "1            100               Home           BA+  \n",
       "2            100             Street  Some college  \n",
       "3            100    Other specified           BA+  \n",
       "4            100               Home           BA+  \n",
       "5            100    Other specified        HS/GED  \n",
       "...          ...                ...           ...  \n",
       "100794       100               Home        HS/GED  \n",
       "100795       100             Street        HS/GED  \n",
       "100796       100             Street        HS/GED  \n",
       "100797       260             Street  Less than HS  \n",
       "100798       100  Other unspecified        HS/GED  \n",
       "\n",
       "[100798 rows x 10 columns]"
      ]
     },
     "execution_count": 101,
     "metadata": {},
     "output_type": "execute_result"
    }
   ],
   "source": [
    "dataset"
   ]
  },
  {
   "cell_type": "code",
   "execution_count": 106,
   "metadata": {},
   "outputs": [],
   "source": [
    "dataset.index.name='Index'"
   ]
  },
  {
   "cell_type": "code",
   "execution_count": 107,
   "metadata": {},
   "outputs": [
    {
     "data": {
      "text/html": [
       "<div>\n",
       "<style scoped>\n",
       "    .dataframe tbody tr th:only-of-type {\n",
       "        vertical-align: middle;\n",
       "    }\n",
       "\n",
       "    .dataframe tbody tr th {\n",
       "        vertical-align: top;\n",
       "    }\n",
       "\n",
       "    .dataframe thead th {\n",
       "        text-align: right;\n",
       "    }\n",
       "</style>\n",
       "<table border=\"1\" class=\"dataframe\">\n",
       "  <thead>\n",
       "    <tr style=\"text-align: right;\">\n",
       "      <th></th>\n",
       "      <th>year</th>\n",
       "      <th>month</th>\n",
       "      <th>intent</th>\n",
       "      <th>police</th>\n",
       "      <th>sex</th>\n",
       "      <th>age</th>\n",
       "      <th>race</th>\n",
       "      <th>hispanic</th>\n",
       "      <th>place</th>\n",
       "      <th>education</th>\n",
       "    </tr>\n",
       "    <tr>\n",
       "      <th>Index</th>\n",
       "      <th></th>\n",
       "      <th></th>\n",
       "      <th></th>\n",
       "      <th></th>\n",
       "      <th></th>\n",
       "      <th></th>\n",
       "      <th></th>\n",
       "      <th></th>\n",
       "      <th></th>\n",
       "      <th></th>\n",
       "    </tr>\n",
       "  </thead>\n",
       "  <tbody>\n",
       "    <tr>\n",
       "      <td>1</td>\n",
       "      <td>2012</td>\n",
       "      <td>1</td>\n",
       "      <td>Suicide</td>\n",
       "      <td>0</td>\n",
       "      <td>M</td>\n",
       "      <td>34.0</td>\n",
       "      <td>Asian/Pacific Islander</td>\n",
       "      <td>100</td>\n",
       "      <td>Home</td>\n",
       "      <td>BA+</td>\n",
       "    </tr>\n",
       "    <tr>\n",
       "      <td>2</td>\n",
       "      <td>2012</td>\n",
       "      <td>1</td>\n",
       "      <td>Suicide</td>\n",
       "      <td>0</td>\n",
       "      <td>F</td>\n",
       "      <td>21.0</td>\n",
       "      <td>White</td>\n",
       "      <td>100</td>\n",
       "      <td>Street</td>\n",
       "      <td>Some college</td>\n",
       "    </tr>\n",
       "    <tr>\n",
       "      <td>3</td>\n",
       "      <td>2012</td>\n",
       "      <td>1</td>\n",
       "      <td>Suicide</td>\n",
       "      <td>0</td>\n",
       "      <td>M</td>\n",
       "      <td>60.0</td>\n",
       "      <td>White</td>\n",
       "      <td>100</td>\n",
       "      <td>Other specified</td>\n",
       "      <td>BA+</td>\n",
       "    </tr>\n",
       "    <tr>\n",
       "      <td>4</td>\n",
       "      <td>2012</td>\n",
       "      <td>2</td>\n",
       "      <td>Suicide</td>\n",
       "      <td>0</td>\n",
       "      <td>M</td>\n",
       "      <td>64.0</td>\n",
       "      <td>White</td>\n",
       "      <td>100</td>\n",
       "      <td>Home</td>\n",
       "      <td>BA+</td>\n",
       "    </tr>\n",
       "    <tr>\n",
       "      <td>5</td>\n",
       "      <td>2012</td>\n",
       "      <td>2</td>\n",
       "      <td>Suicide</td>\n",
       "      <td>0</td>\n",
       "      <td>M</td>\n",
       "      <td>31.0</td>\n",
       "      <td>White</td>\n",
       "      <td>100</td>\n",
       "      <td>Other specified</td>\n",
       "      <td>HS/GED</td>\n",
       "    </tr>\n",
       "    <tr>\n",
       "      <td>...</td>\n",
       "      <td>...</td>\n",
       "      <td>...</td>\n",
       "      <td>...</td>\n",
       "      <td>...</td>\n",
       "      <td>...</td>\n",
       "      <td>...</td>\n",
       "      <td>...</td>\n",
       "      <td>...</td>\n",
       "      <td>...</td>\n",
       "      <td>...</td>\n",
       "    </tr>\n",
       "    <tr>\n",
       "      <td>100794</td>\n",
       "      <td>2014</td>\n",
       "      <td>12</td>\n",
       "      <td>Homicide</td>\n",
       "      <td>0</td>\n",
       "      <td>M</td>\n",
       "      <td>36.0</td>\n",
       "      <td>Black</td>\n",
       "      <td>100</td>\n",
       "      <td>Home</td>\n",
       "      <td>HS/GED</td>\n",
       "    </tr>\n",
       "    <tr>\n",
       "      <td>100795</td>\n",
       "      <td>2014</td>\n",
       "      <td>12</td>\n",
       "      <td>Homicide</td>\n",
       "      <td>0</td>\n",
       "      <td>M</td>\n",
       "      <td>19.0</td>\n",
       "      <td>Black</td>\n",
       "      <td>100</td>\n",
       "      <td>Street</td>\n",
       "      <td>HS/GED</td>\n",
       "    </tr>\n",
       "    <tr>\n",
       "      <td>100796</td>\n",
       "      <td>2014</td>\n",
       "      <td>12</td>\n",
       "      <td>Homicide</td>\n",
       "      <td>0</td>\n",
       "      <td>M</td>\n",
       "      <td>20.0</td>\n",
       "      <td>Black</td>\n",
       "      <td>100</td>\n",
       "      <td>Street</td>\n",
       "      <td>HS/GED</td>\n",
       "    </tr>\n",
       "    <tr>\n",
       "      <td>100797</td>\n",
       "      <td>2014</td>\n",
       "      <td>12</td>\n",
       "      <td>Homicide</td>\n",
       "      <td>0</td>\n",
       "      <td>M</td>\n",
       "      <td>22.0</td>\n",
       "      <td>Hispanic</td>\n",
       "      <td>260</td>\n",
       "      <td>Street</td>\n",
       "      <td>Less than HS</td>\n",
       "    </tr>\n",
       "    <tr>\n",
       "      <td>100798</td>\n",
       "      <td>2014</td>\n",
       "      <td>10</td>\n",
       "      <td>Homicide</td>\n",
       "      <td>0</td>\n",
       "      <td>M</td>\n",
       "      <td>43.0</td>\n",
       "      <td>Black</td>\n",
       "      <td>100</td>\n",
       "      <td>Other unspecified</td>\n",
       "      <td>HS/GED</td>\n",
       "    </tr>\n",
       "  </tbody>\n",
       "</table>\n",
       "<p>100798 rows × 10 columns</p>\n",
       "</div>"
      ],
      "text/plain": [
       "        year  month    intent  police sex   age                    race  \\\n",
       "Index                                                                     \n",
       "1       2012      1   Suicide       0   M  34.0  Asian/Pacific Islander   \n",
       "2       2012      1   Suicide       0   F  21.0                   White   \n",
       "3       2012      1   Suicide       0   M  60.0                   White   \n",
       "4       2012      2   Suicide       0   M  64.0                   White   \n",
       "5       2012      2   Suicide       0   M  31.0                   White   \n",
       "...      ...    ...       ...     ...  ..   ...                     ...   \n",
       "100794  2014     12  Homicide       0   M  36.0                   Black   \n",
       "100795  2014     12  Homicide       0   M  19.0                   Black   \n",
       "100796  2014     12  Homicide       0   M  20.0                   Black   \n",
       "100797  2014     12  Homicide       0   M  22.0                Hispanic   \n",
       "100798  2014     10  Homicide       0   M  43.0                   Black   \n",
       "\n",
       "        hispanic              place     education  \n",
       "Index                                              \n",
       "1            100               Home           BA+  \n",
       "2            100             Street  Some college  \n",
       "3            100    Other specified           BA+  \n",
       "4            100               Home           BA+  \n",
       "5            100    Other specified        HS/GED  \n",
       "...          ...                ...           ...  \n",
       "100794       100               Home        HS/GED  \n",
       "100795       100             Street        HS/GED  \n",
       "100796       100             Street        HS/GED  \n",
       "100797       260             Street  Less than HS  \n",
       "100798       100  Other unspecified        HS/GED  \n",
       "\n",
       "[100798 rows x 10 columns]"
      ]
     },
     "execution_count": 107,
     "metadata": {},
     "output_type": "execute_result"
    }
   ],
   "source": [
    "dataset"
   ]
  },
  {
   "cell_type": "code",
   "execution_count": 108,
   "metadata": {},
   "outputs": [],
   "source": [
    "dataset_Gun = dataset"
   ]
  },
  {
   "cell_type": "code",
   "execution_count": 110,
   "metadata": {},
   "outputs": [],
   "source": [
    "dataset_Gun.sort_values(['year','month'],inplace=True)"
   ]
  },
  {
   "cell_type": "code",
   "execution_count": 112,
   "metadata": {},
   "outputs": [
    {
     "data": {
      "text/html": [
       "<div>\n",
       "<style scoped>\n",
       "    .dataframe tbody tr th:only-of-type {\n",
       "        vertical-align: middle;\n",
       "    }\n",
       "\n",
       "    .dataframe tbody tr th {\n",
       "        vertical-align: top;\n",
       "    }\n",
       "\n",
       "    .dataframe thead th {\n",
       "        text-align: right;\n",
       "    }\n",
       "</style>\n",
       "<table border=\"1\" class=\"dataframe\">\n",
       "  <thead>\n",
       "    <tr style=\"text-align: right;\">\n",
       "      <th></th>\n",
       "      <th>year</th>\n",
       "      <th>month</th>\n",
       "      <th>intent</th>\n",
       "      <th>police</th>\n",
       "      <th>sex</th>\n",
       "      <th>age</th>\n",
       "      <th>race</th>\n",
       "      <th>hispanic</th>\n",
       "      <th>place</th>\n",
       "      <th>education</th>\n",
       "    </tr>\n",
       "    <tr>\n",
       "      <th>Index</th>\n",
       "      <th></th>\n",
       "      <th></th>\n",
       "      <th></th>\n",
       "      <th></th>\n",
       "      <th></th>\n",
       "      <th></th>\n",
       "      <th></th>\n",
       "      <th></th>\n",
       "      <th></th>\n",
       "      <th></th>\n",
       "    </tr>\n",
       "  </thead>\n",
       "  <tbody>\n",
       "    <tr>\n",
       "      <td>1</td>\n",
       "      <td>2012</td>\n",
       "      <td>1</td>\n",
       "      <td>Suicide</td>\n",
       "      <td>0</td>\n",
       "      <td>M</td>\n",
       "      <td>34.0</td>\n",
       "      <td>Asian/Pacific Islander</td>\n",
       "      <td>100</td>\n",
       "      <td>Home</td>\n",
       "      <td>BA+</td>\n",
       "    </tr>\n",
       "    <tr>\n",
       "      <td>2</td>\n",
       "      <td>2012</td>\n",
       "      <td>1</td>\n",
       "      <td>Suicide</td>\n",
       "      <td>0</td>\n",
       "      <td>F</td>\n",
       "      <td>21.0</td>\n",
       "      <td>White</td>\n",
       "      <td>100</td>\n",
       "      <td>Street</td>\n",
       "      <td>Some college</td>\n",
       "    </tr>\n",
       "    <tr>\n",
       "      <td>3</td>\n",
       "      <td>2012</td>\n",
       "      <td>1</td>\n",
       "      <td>Suicide</td>\n",
       "      <td>0</td>\n",
       "      <td>M</td>\n",
       "      <td>60.0</td>\n",
       "      <td>White</td>\n",
       "      <td>100</td>\n",
       "      <td>Other specified</td>\n",
       "      <td>BA+</td>\n",
       "    </tr>\n",
       "    <tr>\n",
       "      <td>12</td>\n",
       "      <td>2012</td>\n",
       "      <td>1</td>\n",
       "      <td>Suicide</td>\n",
       "      <td>0</td>\n",
       "      <td>M</td>\n",
       "      <td>21.0</td>\n",
       "      <td>Native American/Native Alaskan</td>\n",
       "      <td>100</td>\n",
       "      <td>Home</td>\n",
       "      <td>HS/GED</td>\n",
       "    </tr>\n",
       "    <tr>\n",
       "      <td>135</td>\n",
       "      <td>2012</td>\n",
       "      <td>1</td>\n",
       "      <td>Suicide</td>\n",
       "      <td>0</td>\n",
       "      <td>F</td>\n",
       "      <td>59.0</td>\n",
       "      <td>White</td>\n",
       "      <td>100</td>\n",
       "      <td>Home</td>\n",
       "      <td>HS/GED</td>\n",
       "    </tr>\n",
       "    <tr>\n",
       "      <td>...</td>\n",
       "      <td>...</td>\n",
       "      <td>...</td>\n",
       "      <td>...</td>\n",
       "      <td>...</td>\n",
       "      <td>...</td>\n",
       "      <td>...</td>\n",
       "      <td>...</td>\n",
       "      <td>...</td>\n",
       "      <td>...</td>\n",
       "      <td>...</td>\n",
       "    </tr>\n",
       "    <tr>\n",
       "      <td>100793</td>\n",
       "      <td>2014</td>\n",
       "      <td>12</td>\n",
       "      <td>Homicide</td>\n",
       "      <td>0</td>\n",
       "      <td>M</td>\n",
       "      <td>31.0</td>\n",
       "      <td>Black</td>\n",
       "      <td>100</td>\n",
       "      <td>Other specified</td>\n",
       "      <td>HS/GED</td>\n",
       "    </tr>\n",
       "    <tr>\n",
       "      <td>100794</td>\n",
       "      <td>2014</td>\n",
       "      <td>12</td>\n",
       "      <td>Homicide</td>\n",
       "      <td>0</td>\n",
       "      <td>M</td>\n",
       "      <td>36.0</td>\n",
       "      <td>Black</td>\n",
       "      <td>100</td>\n",
       "      <td>Home</td>\n",
       "      <td>HS/GED</td>\n",
       "    </tr>\n",
       "    <tr>\n",
       "      <td>100795</td>\n",
       "      <td>2014</td>\n",
       "      <td>12</td>\n",
       "      <td>Homicide</td>\n",
       "      <td>0</td>\n",
       "      <td>M</td>\n",
       "      <td>19.0</td>\n",
       "      <td>Black</td>\n",
       "      <td>100</td>\n",
       "      <td>Street</td>\n",
       "      <td>HS/GED</td>\n",
       "    </tr>\n",
       "    <tr>\n",
       "      <td>100796</td>\n",
       "      <td>2014</td>\n",
       "      <td>12</td>\n",
       "      <td>Homicide</td>\n",
       "      <td>0</td>\n",
       "      <td>M</td>\n",
       "      <td>20.0</td>\n",
       "      <td>Black</td>\n",
       "      <td>100</td>\n",
       "      <td>Street</td>\n",
       "      <td>HS/GED</td>\n",
       "    </tr>\n",
       "    <tr>\n",
       "      <td>100797</td>\n",
       "      <td>2014</td>\n",
       "      <td>12</td>\n",
       "      <td>Homicide</td>\n",
       "      <td>0</td>\n",
       "      <td>M</td>\n",
       "      <td>22.0</td>\n",
       "      <td>Hispanic</td>\n",
       "      <td>260</td>\n",
       "      <td>Street</td>\n",
       "      <td>Less than HS</td>\n",
       "    </tr>\n",
       "  </tbody>\n",
       "</table>\n",
       "<p>100798 rows × 10 columns</p>\n",
       "</div>"
      ],
      "text/plain": [
       "        year  month    intent  police sex   age  \\\n",
       "Index                                             \n",
       "1       2012      1   Suicide       0   M  34.0   \n",
       "2       2012      1   Suicide       0   F  21.0   \n",
       "3       2012      1   Suicide       0   M  60.0   \n",
       "12      2012      1   Suicide       0   M  21.0   \n",
       "135     2012      1   Suicide       0   F  59.0   \n",
       "...      ...    ...       ...     ...  ..   ...   \n",
       "100793  2014     12  Homicide       0   M  31.0   \n",
       "100794  2014     12  Homicide       0   M  36.0   \n",
       "100795  2014     12  Homicide       0   M  19.0   \n",
       "100796  2014     12  Homicide       0   M  20.0   \n",
       "100797  2014     12  Homicide       0   M  22.0   \n",
       "\n",
       "                                  race  hispanic            place  \\\n",
       "Index                                                               \n",
       "1               Asian/Pacific Islander       100             Home   \n",
       "2                                White       100           Street   \n",
       "3                                White       100  Other specified   \n",
       "12      Native American/Native Alaskan       100             Home   \n",
       "135                              White       100             Home   \n",
       "...                                ...       ...              ...   \n",
       "100793                           Black       100  Other specified   \n",
       "100794                           Black       100             Home   \n",
       "100795                           Black       100           Street   \n",
       "100796                           Black       100           Street   \n",
       "100797                        Hispanic       260           Street   \n",
       "\n",
       "           education  \n",
       "Index                 \n",
       "1                BA+  \n",
       "2       Some college  \n",
       "3                BA+  \n",
       "12            HS/GED  \n",
       "135           HS/GED  \n",
       "...              ...  \n",
       "100793        HS/GED  \n",
       "100794        HS/GED  \n",
       "100795        HS/GED  \n",
       "100796        HS/GED  \n",
       "100797  Less than HS  \n",
       "\n",
       "[100798 rows x 10 columns]"
      ]
     },
     "execution_count": 112,
     "metadata": {},
     "output_type": "execute_result"
    }
   ],
   "source": [
    "dataset_Gun"
   ]
  },
  {
   "cell_type": "code",
   "execution_count": 114,
   "metadata": {},
   "outputs": [
    {
     "data": {
      "text/plain": [
       "M    86349\n",
       "F    14449\n",
       "Name: sex, dtype: int64"
      ]
     },
     "execution_count": 114,
     "metadata": {},
     "output_type": "execute_result"
    }
   ],
   "source": [
    "dataset_Gun['sex'].value_counts()"
   ]
  },
  {
   "cell_type": "code",
   "execution_count": 115,
   "metadata": {},
   "outputs": [
    {
     "data": {
      "text/plain": [
       "<matplotlib.axes._subplots.AxesSubplot at 0x1b9e3438438>"
      ]
     },
     "execution_count": 115,
     "metadata": {},
     "output_type": "execute_result"
    },
    {
     "data": {
      "image/png": "[encoded data removed]",
      "text/plain": [
       "<Figure size 432x288 with 1 Axes>"
      ]
     },
     "metadata": {},
     "output_type": "display_data"
    }
   ],
   "source": [
    "sns.countplot(x =dataset_Gun['sex'], data = dataset_Gun)"
   ]
  },
  {
   "cell_type": "code",
   "execution_count": 116,
   "metadata": {},
   "outputs": [],
   "source": [
    "dataset_byGender = dataset_Gun.groupby('sex').count()"
   ]
  },
  {
   "cell_type": "code",
   "execution_count": 117,
   "metadata": {},
   "outputs": [
    {
     "data": {
      "text/html": [
       "<div>\n",
       "<style scoped>\n",
       "    .dataframe tbody tr th:only-of-type {\n",
       "        vertical-align: middle;\n",
       "    }\n",
       "\n",
       "    .dataframe tbody tr th {\n",
       "        vertical-align: top;\n",
       "    }\n",
       "\n",
       "    .dataframe thead th {\n",
       "        text-align: right;\n",
       "    }\n",
       "</style>\n",
       "<table border=\"1\" class=\"dataframe\">\n",
       "  <thead>\n",
       "    <tr style=\"text-align: right;\">\n",
       "      <th></th>\n",
       "      <th>year</th>\n",
       "      <th>month</th>\n",
       "      <th>intent</th>\n",
       "      <th>police</th>\n",
       "      <th>age</th>\n",
       "      <th>race</th>\n",
       "      <th>hispanic</th>\n",
       "      <th>place</th>\n",
       "      <th>education</th>\n",
       "    </tr>\n",
       "    <tr>\n",
       "      <th>sex</th>\n",
       "      <th></th>\n",
       "      <th></th>\n",
       "      <th></th>\n",
       "      <th></th>\n",
       "      <th></th>\n",
       "      <th></th>\n",
       "      <th></th>\n",
       "      <th></th>\n",
       "      <th></th>\n",
       "    </tr>\n",
       "  </thead>\n",
       "  <tbody>\n",
       "    <tr>\n",
       "      <td>F</td>\n",
       "      <td>14449</td>\n",
       "      <td>14449</td>\n",
       "      <td>14449</td>\n",
       "      <td>14449</td>\n",
       "      <td>14446</td>\n",
       "      <td>14449</td>\n",
       "      <td>14449</td>\n",
       "      <td>14386</td>\n",
       "      <td>14243</td>\n",
       "    </tr>\n",
       "    <tr>\n",
       "      <td>M</td>\n",
       "      <td>86349</td>\n",
       "      <td>86349</td>\n",
       "      <td>86348</td>\n",
       "      <td>86349</td>\n",
       "      <td>86334</td>\n",
       "      <td>86349</td>\n",
       "      <td>86349</td>\n",
       "      <td>85028</td>\n",
       "      <td>85133</td>\n",
       "    </tr>\n",
       "  </tbody>\n",
       "</table>\n",
       "</div>"
      ],
      "text/plain": [
       "      year  month  intent  police    age   race  hispanic  place  education\n",
       "sex                                                                        \n",
       "F    14449  14449   14449   14449  14446  14449     14449  14386      14243\n",
       "M    86349  86349   86348   86349  86334  86349     86349  85028      85133"
      ]
     },
     "execution_count": 117,
     "metadata": {},
     "output_type": "execute_result"
    }
   ],
   "source": [
    "dataset_byGender"
   ]
  },
  {
   "cell_type": "code",
   "execution_count": 118,
   "metadata": {},
   "outputs": [
    {
     "data": {
      "text/html": [
       "<div>\n",
       "<style scoped>\n",
       "    .dataframe tbody tr th:only-of-type {\n",
       "        vertical-align: middle;\n",
       "    }\n",
       "\n",
       "    .dataframe tbody tr th {\n",
       "        vertical-align: top;\n",
       "    }\n",
       "\n",
       "    .dataframe thead th {\n",
       "        text-align: right;\n",
       "    }\n",
       "</style>\n",
       "<table border=\"1\" class=\"dataframe\">\n",
       "  <thead>\n",
       "    <tr style=\"text-align: right;\">\n",
       "      <th></th>\n",
       "      <th>year</th>\n",
       "      <th>month</th>\n",
       "      <th>intent</th>\n",
       "      <th>police</th>\n",
       "      <th>sex</th>\n",
       "      <th>age</th>\n",
       "      <th>race</th>\n",
       "      <th>hispanic</th>\n",
       "      <th>place</th>\n",
       "      <th>education</th>\n",
       "    </tr>\n",
       "    <tr>\n",
       "      <th>Index</th>\n",
       "      <th></th>\n",
       "      <th></th>\n",
       "      <th></th>\n",
       "      <th></th>\n",
       "      <th></th>\n",
       "      <th></th>\n",
       "      <th></th>\n",
       "      <th></th>\n",
       "      <th></th>\n",
       "      <th></th>\n",
       "    </tr>\n",
       "  </thead>\n",
       "  <tbody>\n",
       "    <tr>\n",
       "      <td>1</td>\n",
       "      <td>2012</td>\n",
       "      <td>1</td>\n",
       "      <td>Suicide</td>\n",
       "      <td>0</td>\n",
       "      <td>M</td>\n",
       "      <td>34.0</td>\n",
       "      <td>Asian/Pacific Islander</td>\n",
       "      <td>100</td>\n",
       "      <td>Home</td>\n",
       "      <td>BA+</td>\n",
       "    </tr>\n",
       "    <tr>\n",
       "      <td>2</td>\n",
       "      <td>2012</td>\n",
       "      <td>1</td>\n",
       "      <td>Suicide</td>\n",
       "      <td>0</td>\n",
       "      <td>F</td>\n",
       "      <td>21.0</td>\n",
       "      <td>White</td>\n",
       "      <td>100</td>\n",
       "      <td>Street</td>\n",
       "      <td>Some college</td>\n",
       "    </tr>\n",
       "    <tr>\n",
       "      <td>3</td>\n",
       "      <td>2012</td>\n",
       "      <td>1</td>\n",
       "      <td>Suicide</td>\n",
       "      <td>0</td>\n",
       "      <td>M</td>\n",
       "      <td>60.0</td>\n",
       "      <td>White</td>\n",
       "      <td>100</td>\n",
       "      <td>Other specified</td>\n",
       "      <td>BA+</td>\n",
       "    </tr>\n",
       "    <tr>\n",
       "      <td>12</td>\n",
       "      <td>2012</td>\n",
       "      <td>1</td>\n",
       "      <td>Suicide</td>\n",
       "      <td>0</td>\n",
       "      <td>M</td>\n",
       "      <td>21.0</td>\n",
       "      <td>Native American/Native Alaskan</td>\n",
       "      <td>100</td>\n",
       "      <td>Home</td>\n",
       "      <td>HS/GED</td>\n",
       "    </tr>\n",
       "    <tr>\n",
       "      <td>135</td>\n",
       "      <td>2012</td>\n",
       "      <td>1</td>\n",
       "      <td>Suicide</td>\n",
       "      <td>0</td>\n",
       "      <td>F</td>\n",
       "      <td>59.0</td>\n",
       "      <td>White</td>\n",
       "      <td>100</td>\n",
       "      <td>Home</td>\n",
       "      <td>HS/GED</td>\n",
       "    </tr>\n",
       "    <tr>\n",
       "      <td>...</td>\n",
       "      <td>...</td>\n",
       "      <td>...</td>\n",
       "      <td>...</td>\n",
       "      <td>...</td>\n",
       "      <td>...</td>\n",
       "      <td>...</td>\n",
       "      <td>...</td>\n",
       "      <td>...</td>\n",
       "      <td>...</td>\n",
       "      <td>...</td>\n",
       "    </tr>\n",
       "    <tr>\n",
       "      <td>100793</td>\n",
       "      <td>2014</td>\n",
       "      <td>12</td>\n",
       "      <td>Homicide</td>\n",
       "      <td>0</td>\n",
       "      <td>M</td>\n",
       "      <td>31.0</td>\n",
       "      <td>Black</td>\n",
       "      <td>100</td>\n",
       "      <td>Other specified</td>\n",
       "      <td>HS/GED</td>\n",
       "    </tr>\n",
       "    <tr>\n",
       "      <td>100794</td>\n",
       "      <td>2014</td>\n",
       "      <td>12</td>\n",
       "      <td>Homicide</td>\n",
       "      <td>0</td>\n",
       "      <td>M</td>\n",
       "      <td>36.0</td>\n",
       "      <td>Black</td>\n",
       "      <td>100</td>\n",
       "      <td>Home</td>\n",
       "      <td>HS/GED</td>\n",
       "    </tr>\n",
       "    <tr>\n",
       "      <td>100795</td>\n",
       "      <td>2014</td>\n",
       "      <td>12</td>\n",
       "      <td>Homicide</td>\n",
       "      <td>0</td>\n",
       "      <td>M</td>\n",
       "      <td>19.0</td>\n",
       "      <td>Black</td>\n",
       "      <td>100</td>\n",
       "      <td>Street</td>\n",
       "      <td>HS/GED</td>\n",
       "    </tr>\n",
       "    <tr>\n",
       "      <td>100796</td>\n",
       "      <td>2014</td>\n",
       "      <td>12</td>\n",
       "      <td>Homicide</td>\n",
       "      <td>0</td>\n",
       "      <td>M</td>\n",
       "      <td>20.0</td>\n",
       "      <td>Black</td>\n",
       "      <td>100</td>\n",
       "      <td>Street</td>\n",
       "      <td>HS/GED</td>\n",
       "    </tr>\n",
       "    <tr>\n",
       "      <td>100797</td>\n",
       "      <td>2014</td>\n",
       "      <td>12</td>\n",
       "      <td>Homicide</td>\n",
       "      <td>0</td>\n",
       "      <td>M</td>\n",
       "      <td>22.0</td>\n",
       "      <td>Hispanic</td>\n",
       "      <td>260</td>\n",
       "      <td>Street</td>\n",
       "      <td>Less than HS</td>\n",
       "    </tr>\n",
       "  </tbody>\n",
       "</table>\n",
       "<p>100798 rows × 10 columns</p>\n",
       "</div>"
      ],
      "text/plain": [
       "        year  month    intent  police sex   age  \\\n",
       "Index                                             \n",
       "1       2012      1   Suicide       0   M  34.0   \n",
       "2       2012      1   Suicide       0   F  21.0   \n",
       "3       2012      1   Suicide       0   M  60.0   \n",
       "12      2012      1   Suicide       0   M  21.0   \n",
       "135     2012      1   Suicide       0   F  59.0   \n",
       "...      ...    ...       ...     ...  ..   ...   \n",
       "100793  2014     12  Homicide       0   M  31.0   \n",
       "100794  2014     12  Homicide       0   M  36.0   \n",
       "100795  2014     12  Homicide       0   M  19.0   \n",
       "100796  2014     12  Homicide       0   M  20.0   \n",
       "100797  2014     12  Homicide       0   M  22.0   \n",
       "\n",
       "                                  race  hispanic            place  \\\n",
       "Index                                                               \n",
       "1               Asian/Pacific Islander       100             Home   \n",
       "2                                White       100           Street   \n",
       "3                                White       100  Other specified   \n",
       "12      Native American/Native Alaskan       100             Home   \n",
       "135                              White       100             Home   \n",
       "...                                ...       ...              ...   \n",
       "100793                           Black       100  Other specified   \n",
       "100794                           Black       100             Home   \n",
       "100795                           Black       100           Street   \n",
       "100796                           Black       100           Street   \n",
       "100797                        Hispanic       260           Street   \n",
       "\n",
       "           education  \n",
       "Index                 \n",
       "1                BA+  \n",
       "2       Some college  \n",
       "3                BA+  \n",
       "12            HS/GED  \n",
       "135           HS/GED  \n",
       "...              ...  \n",
       "100793        HS/GED  \n",
       "100794        HS/GED  \n",
       "100795        HS/GED  \n",
       "100796        HS/GED  \n",
       "100797  Less than HS  \n",
       "\n",
       "[100798 rows x 10 columns]"
      ]
     },
     "execution_count": 118,
     "metadata": {},
     "output_type": "execute_result"
    }
   ],
   "source": [
    "dataset_Gun"
   ]
  },
  {
   "cell_type": "code",
   "execution_count": 119,
   "metadata": {},
   "outputs": [],
   "source": [
    "dataset_suicide_Gender = dataset_Gun[dataset_Gun['intent']=='Suicide']\n",
    "dataset_homicide_Gender = dataset_Gun[dataset_Gun['intent']=='Homicide']\n"
   ]
  },
  {
   "cell_type": "code",
   "execution_count": 121,
   "metadata": {},
   "outputs": [
    {
     "data": {
      "text/plain": [
       "M    54486\n",
       "F     8689\n",
       "Name: sex, dtype: int64"
      ]
     },
     "execution_count": 121,
     "metadata": {},
     "output_type": "execute_result"
    }
   ],
   "source": [
    "dataset_suicide_Gender.sex.value_counts()"
   ]
  },
  {
   "cell_type": "code",
   "execution_count": 122,
   "metadata": {},
   "outputs": [
    {
     "data": {
      "text/plain": [
       "M    29803\n",
       "F     5373\n",
       "Name: sex, dtype: int64"
      ]
     },
     "execution_count": 122,
     "metadata": {},
     "output_type": "execute_result"
    }
   ],
   "source": [
    "dataset_homicide_Gender.sex.value_counts()"
   ]
  },
  {
   "cell_type": "code",
   "execution_count": 123,
   "metadata": {},
   "outputs": [
    {
     "data": {
      "text/plain": [
       "<matplotlib.axes._subplots.AxesSubplot at 0x1b9e3441828>"
      ]
     },
     "execution_count": 123,
     "metadata": {},
     "output_type": "execute_result"
    },
    {
     "data": {
      "image/png": "[encoded data removed]",
      "text/plain": [
       "<Figure size 432x288 with 1 Axes>"
      ]
     },
     "metadata": {},
     "output_type": "display_data"
    }
   ],
   "source": [
    "sns.countplot(x=dataset_suicide_Gender['sex'],data=dataset_suicide_Gender)"
   ]
  },
  {
   "cell_type": "code",
   "execution_count": 125,
   "metadata": {},
   "outputs": [
    {
     "data": {
      "text/plain": [
       "<matplotlib.axes._subplots.AxesSubplot at 0x1b9e35971d0>"
      ]
     },
     "execution_count": 125,
     "metadata": {},
     "output_type": "execute_result"
    },
    {
     "data": {
      "image/png": "[encoded data removed]",
      "text/plain": [
       "<Figure size 432x288 with 1 Axes>"
      ]
     },
     "metadata": {},
     "output_type": "display_data"
    }
   ],
   "source": [
    "sns.countplot(x=dataset_homicide_Gender['sex'],data=dataset_homicide_Gender)"
   ]
  },
  {
   "cell_type": "code",
   "execution_count": 129,
   "metadata": {},
   "outputs": [
    {
     "data": {
      "text/plain": [
       "<matplotlib.axes._subplots.AxesSubplot at 0x1b9e427add8>"
      ]
     },
     "execution_count": 129,
     "metadata": {},
     "output_type": "execute_result"
    },
    {
     "data": {
      "image/png": "[encoded data removed]",
      "text/plain": [
       "<Figure size 432x288 with 1 Axes>"
      ]
     },
     "metadata": {},
     "output_type": "display_data"
    }
   ],
   "source": [
    "dataset_byGender.plot(kind='bar',title='Annual U.S. Suicide gun deaths \\n 2012-2014, by Gender')"
   ]
  },
  {
   "cell_type": "code",
   "execution_count": 133,
   "metadata": {},
   "outputs": [
    {
     "ename": "NameError",
     "evalue": "name 'dataset_byRace' is not defined",
     "output_type": "error",
     "traceback": [
      "\u001b[1;31m---------------------------------------------------------------------------\u001b[0m",
      "\u001b[1;31mNameError\u001b[0m                                 Traceback (most recent call last)",
      "\u001b[1;32m<ipython-input-133-b7e20af287d8>\u001b[0m in \u001b[0;36m<module>\u001b[1;34m\u001b[0m\n\u001b[1;32m----> 1\u001b[1;33m \u001b[0mdataset_byRace\u001b[0m \u001b[1;33m=\u001b[0m \u001b[0mdataset\u001b[0m\u001b[1;33m(\u001b[0m\u001b[0mdataset_byRace\u001b[0m\u001b[1;33m.\u001b[0m\u001b[0mrace\u001b[0m\u001b[1;33m.\u001b[0m\u001b[0mvalue_counts\u001b[0m\u001b[1;33m(\u001b[0m\u001b[0mascending\u001b[0m\u001b[1;33m=\u001b[0m\u001b[1;32mFalse\u001b[0m\u001b[1;33m)\u001b[0m\u001b[1;33m*\u001b[0m\u001b[1;36m100\u001b[0m\u001b[1;33m/\u001b[0m\u001b[1;36m100000\u001b[0m\u001b[1;33m)\u001b[0m\u001b[1;33m\u001b[0m\u001b[1;33m\u001b[0m\u001b[0m\n\u001b[0m",
      "\u001b[1;31mNameError\u001b[0m: name 'dataset_byRace' is not defined"
     ]
    }
   ],
   "source": [
    "dataset_byRace = dataset([dataset_byRace.race.value_counts(ascending=False)*100/100000)"
   ]
  },
  {
   "cell_type": "code",
   "execution_count": 139,
   "metadata": {},
   "outputs": [],
   "source": [
    "dataset_byRace = dataset.race.value_counts(ascending=False)*100/100000"
   ]
  },
  {
   "cell_type": "code",
   "execution_count": 141,
   "metadata": {},
   "outputs": [
    {
     "data": {
      "text/plain": [
       "White                             66.237\n",
       "Black                             23.296\n",
       "Hispanic                           9.022\n",
       "Asian/Pacific Islander             1.326\n",
       "Native American/Native Alaskan     0.917\n",
       "Name: race, dtype: float64"
      ]
     },
     "execution_count": 141,
     "metadata": {},
     "output_type": "execute_result"
    }
   ],
   "source": [
    "dataset_byRace"
   ]
  },
  {
   "cell_type": "code",
   "execution_count": 142,
   "metadata": {},
   "outputs": [
    {
     "data": {
      "text/plain": [
       "<matplotlib.axes._subplots.AxesSubplot at 0x1b9e4a9e048>"
      ]
     },
     "execution_count": 142,
     "metadata": {},
     "output_type": "execute_result"
    },
    {
     "data": {
      "image/png": "[encoded data removed]",
      "text/plain": [
       "<Figure size 432x288 with 1 Axes>"
      ]
     },
     "metadata": {},
     "output_type": "display_data"
    }
   ],
   "source": [
    "dataset_byRace.plot(kind='bar')"
   ]
  },
  {
   "cell_type": "code",
   "execution_count": 150,
   "metadata": {},
   "outputs": [
    {
     "data": {
      "text/plain": [
       "<matplotlib.axes._subplots.AxesSubplot at 0x1b9e4c3aac8>"
      ]
     },
     "execution_count": 150,
     "metadata": {},
     "output_type": "execute_result"
    },
    {
     "data": {
      "image/png": "[encoded data removed]",
      "text/plain": [
       "<Figure size 432x288 with 1 Axes>"
      ]
     },
     "metadata": {},
     "output_type": "display_data"
    }
   ],
   "source": [
    "dataset.intent.value_counts(sort=True).plot(kind='bar')"
   ]
  },
  {
   "cell_type": "code",
   "execution_count": 149,
   "metadata": {},
   "outputs": [
    {
     "data": {
      "text/plain": [
       "Suicide         63175\n",
       "Homicide        35176\n",
       "Accidental       1639\n",
       "Undetermined      807\n",
       "Name: intent, dtype: int64"
      ]
     },
     "execution_count": 149,
     "metadata": {},
     "output_type": "execute_result"
    }
   ],
   "source": [
    "dataset.intent.value_counts()"
   ]
  },
  {
   "cell_type": "code",
   "execution_count": 151,
   "metadata": {},
   "outputs": [
    {
     "data": {
      "text/plain": [
       "White                             66.237\n",
       "Black                             23.296\n",
       "Hispanic                           9.022\n",
       "Asian/Pacific Islander             1.326\n",
       "Native American/Native Alaskan     0.917\n",
       "Name: race, dtype: float64"
      ]
     },
     "execution_count": 151,
     "metadata": {},
     "output_type": "execute_result"
    }
   ],
   "source": [
    "dataset_byRace"
   ]
  },
  {
   "cell_type": "code",
   "execution_count": null,
   "metadata": {},
   "outputs": [],
   "source": []
  }
 ],
 "metadata": {
  "kernelspec": {
   "display_name": "Python 3",
   "language": "python",
   "name": "python3"
  },
  "language_info": {
   "codemirror_mode": {
    "name": "ipython",
    "version": 3
   },
   "file_extension": ".py",
   "mimetype": "text/x-python",
   "name": "python",
   "nbconvert_exporter": "python",
   "pygments_lexer": "ipython3",
   "version": "3.7.3"
  }
 },
 "nbformat": 4,
 "nbformat_minor": 2
}
